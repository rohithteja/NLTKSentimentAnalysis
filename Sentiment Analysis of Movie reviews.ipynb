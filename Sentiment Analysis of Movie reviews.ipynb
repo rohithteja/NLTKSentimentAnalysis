{
 "cells": [
  {
   "cell_type": "code",
   "execution_count": null,
   "metadata": {},
   "outputs": [],
   "source": [
    "import nltk\n",
    "from nltk.corpus import movie_reviews"
   ]
  },
  {
   "cell_type": "code",
   "execution_count": 3,
   "metadata": {},
   "outputs": [
    {
     "data": {
      "text/plain": [
       "['plot', ':', 'two', 'teen', 'couples', 'go', 'to', ...]"
      ]
     },
     "execution_count": 3,
     "metadata": {},
     "output_type": "execute_result"
    }
   ],
   "source": [
    "movie_reviews.words()"
   ]
  },
  {
   "cell_type": "code",
   "execution_count": 4,
   "metadata": {},
   "outputs": [
    {
     "data": {
      "text/plain": [
       "1583820"
      ]
     },
     "execution_count": 4,
     "metadata": {},
     "output_type": "execute_result"
    }
   ],
   "source": [
    "len(movie_reviews.words())"
   ]
  },
  {
   "cell_type": "code",
   "execution_count": 5,
   "metadata": {},
   "outputs": [
    {
     "data": {
      "text/plain": [
       "['neg', 'pos']"
      ]
     },
     "execution_count": 5,
     "metadata": {},
     "output_type": "execute_result"
    }
   ],
   "source": [
    "#types of reviews \n",
    "movie_reviews.categories()"
   ]
  },
  {
   "cell_type": "code",
   "execution_count": 6,
   "metadata": {},
   "outputs": [
    {
     "data": {
      "text/plain": [
       "[(',', 77717),\n",
       " ('the', 76529),\n",
       " ('.', 65876),\n",
       " ('a', 38106),\n",
       " ('and', 35576),\n",
       " ('of', 34123),\n",
       " ('to', 31937),\n",
       " (\"'\", 30585),\n",
       " ('is', 25195),\n",
       " ('in', 21822),\n",
       " ('s', 18513),\n",
       " ('\"', 17612),\n",
       " ('it', 16107),\n",
       " ('that', 15924),\n",
       " ('-', 15595)]"
      ]
     },
     "execution_count": 6,
     "metadata": {},
     "output_type": "execute_result"
    }
   ],
   "source": [
    "#15 most common words in reviews\n",
    "nltk.FreqDist(movie_reviews.words()).most_common(15)"
   ]
  },
  {
   "cell_type": "code",
   "execution_count": 8,
   "metadata": {},
   "outputs": [],
   "source": [
    "#adding all words to an empty list \n",
    "# in lower case\n",
    "allwords = []\n",
    "for i in movie_reviews.words():\n",
    "    allwords.append(i.lower())"
   ]
  },
  {
   "cell_type": "code",
   "execution_count": 11,
   "metadata": {},
   "outputs": [],
   "source": [
    "#list of all unique words in reviews\n",
    "allwords = list(nltk.FreqDist(allwords))"
   ]
  },
  {
   "cell_type": "code",
   "execution_count": 13,
   "metadata": {},
   "outputs": [
    {
     "data": {
      "text/plain": [
       "39768"
      ]
     },
     "execution_count": 13,
     "metadata": {},
     "output_type": "execute_result"
    }
   ],
   "source": [
    "len(allwords)"
   ]
  },
  {
   "cell_type": "code",
   "execution_count": 14,
   "metadata": {},
   "outputs": [],
   "source": [
    "#creating a word vector with top 1000 words\n",
    "word_vector = allwords[:1000]"
   ]
  },
  {
   "cell_type": "code",
   "execution_count": 22,
   "metadata": {},
   "outputs": [],
   "source": [
    "#comparing words in a random review with\n",
    "#the word vector\n",
    "def find_feature(word_list):\n",
    "    feature = {}\n",
    "    for i in word_vector:\n",
    "        feature[i] = i in word_list\n",
    "    return feature"
   ]
  },
  {
   "cell_type": "code",
   "execution_count": 17,
   "metadata": {},
   "outputs": [],
   "source": [
    "#adding all reviews to a document with its tag ie, positive or negative\n",
    "document = []\n",
    "for file_id in movie_reviews.fileids():\n",
    "    for category in movie_reviews.categories(file_id):\n",
    "        document.append((movie_reviews.words(file_id),category))"
   ]
  },
  {
   "cell_type": "code",
   "execution_count": 19,
   "metadata": {},
   "outputs": [
    {
     "data": {
      "text/plain": [
       "2000"
      ]
     },
     "execution_count": 19,
     "metadata": {},
     "output_type": "execute_result"
    }
   ],
   "source": [
    "len(document)"
   ]
  },
  {
   "cell_type": "code",
   "execution_count": 28,
   "metadata": {},
   "outputs": [],
   "source": [
    "#checking if the top 1000 words are found in each review and building feature sets\n",
    "feature_sets = [(find_feature(word_list),category) for (word_list,category) in document]"
   ]
  },
  {
   "cell_type": "code",
   "execution_count": 29,
   "metadata": {},
   "outputs": [],
   "source": [
    "# svc\n",
    "from nltk.classify.scikitlearn import SklearnClassifier\n",
    "from sklearn.svm import SVC\n",
    "from sklearn import model_selection\n",
    "\n",
    "train_set,test_set = model_selection.train_test_split(feature_sets,test_size = 0.20)"
   ]
  },
  {
   "cell_type": "code",
   "execution_count": 30,
   "metadata": {},
   "outputs": [
    {
     "name": "stdout",
     "output_type": "stream",
     "text": [
      "1600\n",
      "400\n"
     ]
    }
   ],
   "source": [
    "print(len(train_set))\n",
    "print(len(test_set))\n",
    "\n",
    "# 1600\n",
    "# 400"
   ]
  },
  {
   "cell_type": "code",
   "execution_count": 31,
   "metadata": {},
   "outputs": [
    {
     "data": {
      "text/plain": [
       "<SklearnClassifier(SVC())>"
      ]
     },
     "execution_count": 31,
     "metadata": {},
     "output_type": "execute_result"
    }
   ],
   "source": [
    "model = SklearnClassifier(SVC(kernel = \"rbf\"))\n",
    "model.train(train_set)"
   ]
  },
  {
   "cell_type": "code",
   "execution_count": 41,
   "metadata": {},
   "outputs": [
    {
     "name": "stdout",
     "output_type": "stream",
     "text": [
      "SVC Accuracy : 0.8275\n"
     ]
    }
   ],
   "source": [
    "accuracy = nltk.classify.accuracy(model, test_set)\n",
    "print(\"SVC Accuracy : {}\".format(accuracy))\n",
    "\n",
    "# SVC Accuracy : 0.8275"
   ]
  },
  {
   "cell_type": "code",
   "execution_count": 34,
   "metadata": {},
   "outputs": [],
   "source": [
    "#naives bayes\n",
    "nb = nltk.NaiveBayesClassifier.train(train_set)"
   ]
  },
  {
   "cell_type": "code",
   "execution_count": 36,
   "metadata": {},
   "outputs": [
    {
     "name": "stdout",
     "output_type": "stream",
     "text": [
      "NB Accuracy : 0.815\n"
     ]
    }
   ],
   "source": [
    "accuracy_nb = nltk.classify.accuracy(nb,test_set)\n",
    "print(\"NB Accuracy : {}\".format(accuracy_nb))\n",
    "\n",
    "# NB Accuracy : 0.815"
   ]
  },
  {
   "cell_type": "code",
   "execution_count": 40,
   "metadata": {},
   "outputs": [
    {
     "name": "stdout",
     "output_type": "stream",
     "text": [
      "Most Informative Features\n",
      "               memorable = True              pos : neg    =      5.5 : 1.0\n",
      "                   worst = True              neg : pos    =      4.9 : 1.0\n",
      "                  truman = True              pos : neg    =      4.4 : 1.0\n",
      "                    mess = True              neg : pos    =      3.5 : 1.0\n",
      "                  boring = True              neg : pos    =      3.5 : 1.0\n",
      "                  stupid = True              neg : pos    =      3.4 : 1.0\n",
      "               brilliant = True              pos : neg    =      3.1 : 1.0\n",
      "               perfectly = True              pos : neg    =      3.0 : 1.0\n",
      "               excellent = True              pos : neg    =      3.0 : 1.0\n",
      "               effective = True              pos : neg    =      2.7 : 1.0\n",
      "                   fails = True              neg : pos    =      2.6 : 1.0\n",
      "                   worse = True              neg : pos    =      2.6 : 1.0\n",
      "                  minute = True              neg : pos    =      2.5 : 1.0\n",
      "                 cameron = True              pos : neg    =      2.5 : 1.0\n",
      "               political = True              pos : neg    =      2.5 : 1.0\n"
     ]
    }
   ],
   "source": [
    "nb.show_most_informative_features(15)"
   ]
  },
  {
   "cell_type": "code",
   "execution_count": 43,
   "metadata": {},
   "outputs": [],
   "source": [
    "#saving featuresets as pickle\n",
    "import pickle\n",
    "\n",
    "save_featuresets = open(\"featuresets.pickle\",\"wb\")\n",
    "pickle.dump(feature_sets,save_featuresets)\n",
    "save_featuresets.close()"
   ]
  },
  {
   "cell_type": "code",
   "execution_count": null,
   "metadata": {},
   "outputs": [],
   "source": []
  }
 ],
 "metadata": {
  "kernelspec": {
   "display_name": "Python 3",
   "language": "python",
   "name": "python3"
  },
  "language_info": {
   "codemirror_mode": {
    "name": "ipython",
    "version": 3
   },
   "file_extension": ".py",
   "mimetype": "text/x-python",
   "name": "python",
   "nbconvert_exporter": "python",
   "pygments_lexer": "ipython3",
   "version": "3.8.3"
  }
 },
 "nbformat": 4,
 "nbformat_minor": 4
}
